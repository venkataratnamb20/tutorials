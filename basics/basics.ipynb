{
 "cells": [
  {
   "cell_type": "markdown",
   "metadata": {},
   "source": [
    "# Organization\n",
    "- Installation and Help\n",
    "- Basic syntax and first program\n",
    "- datatypes\n",
    "- functions\n",
    "- control statements\n",
    "- OOP"
   ]
  },
  {
   "cell_type": "code",
   "execution_count": 2,
   "metadata": {},
   "outputs": [
    {
     "data": {
      "text/plain": [
       "'Learn all topics'"
      ]
     },
     "execution_count": 2,
     "metadata": {},
     "output_type": "execute_result"
    }
   ],
   "source": [
    "\"\"\"Learn all topics\"\"\""
   ]
  },
  {
   "cell_type": "markdown",
   "metadata": {},
   "source": [
    "## Installation and Help\n",
    "- How to install? [Download latest Python](https://www.python.org/downloads/)\n",
    "    - [Windows](https://www.python.org/downloads/windows/)\n",
    "    - [Mac](https://www.python.org/downloads/macos/)\n",
    "    - [Linux](https://www.python.org/downloads/source/)\n",
    "    - [Others](https://www.python.org/download/other/)\n",
    "    - [Docker Image](https://quay.io/repository/python-devs/ci-image)\n",
    "- How to get help?\n",
    "    - Commandline\n",
    "    - Online\n",
    "        - [Python Doc](https://www.python.org/doc/) or [Beginner's Guide](https://wiki.python.org/moin/BeginnersGuide)\n",
    "        - \n",
    "    - Community\n",
    "        - stackoverflow\n",
    "- IDE or code Editors?\n",
    "    - Terminal\n",
    "    - Python IDE\n",
    "    - Jupyter Notebook\n",
    "    - VS Code\n",
    "    - Anaconda\n",
    "    - Py Charm\n",
    "    - Eclipse\n",
    "- First Program\n",
    "    - Print Hello World"
   ]
  },
  {
   "cell_type": "code",
   "execution_count": null,
   "metadata": {},
   "outputs": [],
   "source": [
    "# Installation\n",
    "# https://www.python.org/downloads/\n"
   ]
  },
  {
   "cell_type": "markdown",
   "metadata": {},
   "source": [
    "## Basic Syntax\n",
    "- How to execute a command/file?\n",
    "- How to print?\n",
    "- Variables\n",
    "- basic mathematical operations\n"
   ]
  },
  {
   "cell_type": "code",
   "execution_count": null,
   "metadata": {},
   "outputs": [],
   "source": []
  }
 ],
 "metadata": {
  "kernelspec": {
   "display_name": "Python 3.8.9 64-bit",
   "language": "python",
   "name": "python3"
  },
  "language_info": {
   "codemirror_mode": {
    "name": "ipython",
    "version": 3
   },
   "file_extension": ".py",
   "mimetype": "text/x-python",
   "name": "python",
   "nbconvert_exporter": "python",
   "pygments_lexer": "ipython3",
   "version": "3.8.9"
  },
  "orig_nbformat": 4,
  "vscode": {
   "interpreter": {
    "hash": "31f2aee4e71d21fbe5cf8b01ff0e069b9275f58929596ceb00d14d90e3e16cd6"
   }
  }
 },
 "nbformat": 4,
 "nbformat_minor": 2
}
